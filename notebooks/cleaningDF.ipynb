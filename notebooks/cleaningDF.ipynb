{
 "cells": [
  {
   "cell_type": "code",
   "execution_count": 96,
   "metadata": {},
   "outputs": [],
   "source": [
    "import pandas as pd\n",
    "import numpy as np"
   ]
  },
  {
   "cell_type": "code",
   "execution_count": 97,
   "metadata": {},
   "outputs": [
    {
     "data": {
      "text/html": [
       "<div>\n",
       "<style scoped>\n",
       "    .dataframe tbody tr th:only-of-type {\n",
       "        vertical-align: middle;\n",
       "    }\n",
       "\n",
       "    .dataframe tbody tr th {\n",
       "        vertical-align: top;\n",
       "    }\n",
       "\n",
       "    .dataframe thead th {\n",
       "        text-align: right;\n",
       "    }\n",
       "</style>\n",
       "<table border=\"1\" class=\"dataframe\">\n",
       "  <thead>\n",
       "    <tr style=\"text-align: right;\">\n",
       "      <th></th>\n",
       "      <th>SKU</th>\n",
       "      <th>PRODUCT_NAME</th>\n",
       "      <th>PRICE</th>\n",
       "      <th>PRODUCT_CATEGORY</th>\n",
       "      <th>PACK_SIZE</th>\n",
       "      <th>REVIEW_COUNT</th>\n",
       "      <th>REVIEW_DATE</th>\n",
       "      <th>REVIEW_TIME</th>\n",
       "      <th>PRICE_RATING</th>\n",
       "      <th>QUALITY_RATING</th>\n",
       "      <th>VALUE_RATING</th>\n",
       "      <th>REVIEW_CONTENT</th>\n",
       "      <th>URL</th>\n",
       "      <th>DATE_OF_CREATION</th>\n",
       "      <th>LAST_UPDATED_DATE</th>\n",
       "      <th>STATES</th>\n",
       "    </tr>\n",
       "  </thead>\n",
       "  <tbody>\n",
       "    <tr>\n",
       "      <th>0</th>\n",
       "      <td>8904417301922</td>\n",
       "      <td>Moisture Matte Longstay Lipstick - 2g | Citrus...</td>\n",
       "      <td>499.00</td>\n",
       "      <td>face</td>\n",
       "      <td>2g</td>\n",
       "      <td>NaN</td>\n",
       "      <td>NaN</td>\n",
       "      <td>NaN</td>\n",
       "      <td>NaN</td>\n",
       "      <td>NaN</td>\n",
       "      <td>NaN</td>\n",
       "      <td>NaN</td>\n",
       "      <td>https://mamaearth.in/product/moisture-matte-lo...</td>\n",
       "      <td>2022-09-13</td>\n",
       "      <td>2022-09-19</td>\n",
       "      <td>Uttar Pradesh</td>\n",
       "    </tr>\n",
       "    <tr>\n",
       "      <th>1</th>\n",
       "      <td>8904417301915</td>\n",
       "      <td>Moisture Matte Longstay Lipstick - 2g | Berryl...</td>\n",
       "      <td>499.00</td>\n",
       "      <td>Other</td>\n",
       "      <td>2g</td>\n",
       "      <td>NaN</td>\n",
       "      <td>NaN</td>\n",
       "      <td>NaN</td>\n",
       "      <td>NaN</td>\n",
       "      <td>NaN</td>\n",
       "      <td>NaN</td>\n",
       "      <td>NaN</td>\n",
       "      <td>https://mamaearth.in/product/moisture-matte-lo...</td>\n",
       "      <td>2022-09-13</td>\n",
       "      <td>2022-09-19</td>\n",
       "      <td>Arunachal Pradesh</td>\n",
       "    </tr>\n",
       "    <tr>\n",
       "      <th>2</th>\n",
       "      <td>8904417301908</td>\n",
       "      <td>Moisture Matte Longstay Lipstick -2g  | Cherry...</td>\n",
       "      <td>499.00</td>\n",
       "      <td>face</td>\n",
       "      <td>2g</td>\n",
       "      <td>NaN</td>\n",
       "      <td>NaN</td>\n",
       "      <td>NaN</td>\n",
       "      <td>NaN</td>\n",
       "      <td>NaN</td>\n",
       "      <td>NaN</td>\n",
       "      <td>NaN</td>\n",
       "      <td>https://mamaearth.in/product/moisture-matte-lo...</td>\n",
       "      <td>2022-09-13</td>\n",
       "      <td>2022-09-19</td>\n",
       "      <td>Karnataka</td>\n",
       "    </tr>\n",
       "    <tr>\n",
       "      <th>3</th>\n",
       "      <td>8904417301892</td>\n",
       "      <td>Moisture Matte Long Stay Lipstick - 2g | Pink ...</td>\n",
       "      <td>499.00</td>\n",
       "      <td>face</td>\n",
       "      <td>2g</td>\n",
       "      <td>NaN</td>\n",
       "      <td>NaN</td>\n",
       "      <td>NaN</td>\n",
       "      <td>NaN</td>\n",
       "      <td>NaN</td>\n",
       "      <td>NaN</td>\n",
       "      <td>NaN</td>\n",
       "      <td>https://mamaearth.in/product/moisture-matte-lo...</td>\n",
       "      <td>2022-09-13</td>\n",
       "      <td>2022-09-19</td>\n",
       "      <td>Gujarat</td>\n",
       "    </tr>\n",
       "    <tr>\n",
       "      <th>4</th>\n",
       "      <td>8904417303377</td>\n",
       "      <td>Vitamin C Daily Glow Face Cream - 80 g - Pack ...</td>\n",
       "      <td>498.00</td>\n",
       "      <td>skin</td>\n",
       "      <td>80g</td>\n",
       "      <td>2.0</td>\n",
       "      <td>2022-09-13</td>\n",
       "      <td>18:33:56</td>\n",
       "      <td>5.0</td>\n",
       "      <td>0.0</td>\n",
       "      <td>0.0</td>\n",
       "      <td>Like</td>\n",
       "      <td>https://mamaearth.in/product/vitamin-c-daily-g...</td>\n",
       "      <td>2022-09-01</td>\n",
       "      <td>2022-09-12</td>\n",
       "      <td>Madhya Pradesh</td>\n",
       "    </tr>\n",
       "  </tbody>\n",
       "</table>\n",
       "</div>"
      ],
      "text/plain": [
       "             SKU                                       PRODUCT_NAME   PRICE  \\\n",
       "0  8904417301922  Moisture Matte Longstay Lipstick - 2g | Citrus...  499.00   \n",
       "1  8904417301915  Moisture Matte Longstay Lipstick - 2g | Berryl...  499.00   \n",
       "2  8904417301908  Moisture Matte Longstay Lipstick -2g  | Cherry...  499.00   \n",
       "3  8904417301892  Moisture Matte Long Stay Lipstick - 2g | Pink ...  499.00   \n",
       "4  8904417303377  Vitamin C Daily Glow Face Cream - 80 g - Pack ...  498.00   \n",
       "\n",
       "  PRODUCT_CATEGORY PACK_SIZE  REVIEW_COUNT REVIEW_DATE REVIEW_TIME  \\\n",
       "0             face        2g           NaN         NaN         NaN   \n",
       "1            Other        2g           NaN         NaN         NaN   \n",
       "2             face        2g           NaN         NaN         NaN   \n",
       "3             face        2g           NaN         NaN         NaN   \n",
       "4             skin       80g           2.0  2022-09-13    18:33:56   \n",
       "\n",
       "   PRICE_RATING  QUALITY_RATING  VALUE_RATING REVIEW_CONTENT  \\\n",
       "0           NaN             NaN           NaN            NaN   \n",
       "1           NaN             NaN           NaN            NaN   \n",
       "2           NaN             NaN           NaN            NaN   \n",
       "3           NaN             NaN           NaN            NaN   \n",
       "4           5.0             0.0           0.0           Like   \n",
       "\n",
       "                                                 URL DATE_OF_CREATION  \\\n",
       "0  https://mamaearth.in/product/moisture-matte-lo...       2022-09-13   \n",
       "1  https://mamaearth.in/product/moisture-matte-lo...       2022-09-13   \n",
       "2  https://mamaearth.in/product/moisture-matte-lo...       2022-09-13   \n",
       "3  https://mamaearth.in/product/moisture-matte-lo...       2022-09-13   \n",
       "4  https://mamaearth.in/product/vitamin-c-daily-g...       2022-09-01   \n",
       "\n",
       "  LAST_UPDATED_DATE             STATES  \n",
       "0        2022-09-19      Uttar Pradesh  \n",
       "1        2022-09-19  Arunachal Pradesh  \n",
       "2        2022-09-19          Karnataka  \n",
       "3        2022-09-19            Gujarat  \n",
       "4        2022-09-12     Madhya Pradesh  "
      ]
     },
     "execution_count": 97,
     "metadata": {},
     "output_type": "execute_result"
    }
   ],
   "source": [
    "df = pd.read_csv(\"../datasets/reviews.csv\")\n",
    "df.head()"
   ]
  },
  {
   "cell_type": "code",
   "execution_count": 98,
   "metadata": {},
   "outputs": [
    {
     "data": {
      "text/plain": [
       "Index(['SKU', 'PRODUCT_NAME', 'PRICE', 'PRODUCT_CATEGORY', 'PACK_SIZE',\n",
       "       'REVIEW_COUNT', 'REVIEW_DATE', 'REVIEW_TIME', 'PRICE_RATING',\n",
       "       'QUALITY_RATING', 'VALUE_RATING', 'REVIEW_CONTENT', 'URL',\n",
       "       'DATE_OF_CREATION', 'LAST_UPDATED_DATE', 'STATES'],\n",
       "      dtype='object')"
      ]
     },
     "execution_count": 98,
     "metadata": {},
     "output_type": "execute_result"
    }
   ],
   "source": [
    "df.columns"
   ]
  },
  {
   "cell_type": "code",
   "execution_count": 99,
   "metadata": {},
   "outputs": [
    {
     "name": "stdout",
     "output_type": "stream",
     "text": [
      "<class 'pandas.core.frame.DataFrame'>\n",
      "RangeIndex: 31814 entries, 0 to 31813\n",
      "Data columns (total 16 columns):\n",
      " #   Column             Non-Null Count  Dtype  \n",
      "---  ------             --------------  -----  \n",
      " 0   SKU                31814 non-null  object \n",
      " 1   PRODUCT_NAME       31814 non-null  object \n",
      " 2   PRICE              31814 non-null  object \n",
      " 3   PRODUCT_CATEGORY   31814 non-null  object \n",
      " 4   PACK_SIZE          31814 non-null  object \n",
      " 5   REVIEW_COUNT       31773 non-null  float64\n",
      " 6   REVIEW_DATE        31773 non-null  object \n",
      " 7   REVIEW_TIME        31773 non-null  object \n",
      " 8   PRICE_RATING       31773 non-null  float64\n",
      " 9   QUALITY_RATING     31773 non-null  float64\n",
      " 10  VALUE_RATING       31773 non-null  float64\n",
      " 11  REVIEW_CONTENT     31768 non-null  object \n",
      " 12  URL                31814 non-null  object \n",
      " 13  DATE_OF_CREATION   31814 non-null  object \n",
      " 14  LAST_UPDATED_DATE  31814 non-null  object \n",
      " 15  STATES             31814 non-null  object \n",
      "dtypes: float64(4), object(12)\n",
      "memory usage: 3.9+ MB\n"
     ]
    }
   ],
   "source": [
    "df.info()"
   ]
  },
  {
   "cell_type": "code",
   "execution_count": 100,
   "metadata": {},
   "outputs": [],
   "source": [
    "clean = df.copy()"
   ]
  },
  {
   "cell_type": "code",
   "execution_count": 101,
   "metadata": {},
   "outputs": [],
   "source": [
    "# Lowercase to column names of main dataframe\n",
    "clean.columns=[col.lower() for col in df.columns]"
   ]
  },
  {
   "cell_type": "code",
   "execution_count": 102,
   "metadata": {},
   "outputs": [],
   "source": [
    "# for price column -> object -> float -> int\n",
    "clean['price'] = clean['price'].str.replace(\",\",'').astype(float).astype(int)"
   ]
  },
  {
   "cell_type": "code",
   "execution_count": 103,
   "metadata": {},
   "outputs": [],
   "source": [
    "# for product_category column -> make lowercase\n",
    "clean['product_category'] = clean['product_category'].str.lower().str.strip()"
   ]
  },
  {
   "cell_type": "code",
   "execution_count": 104,
   "metadata": {},
   "outputs": [],
   "source": [
    "# NaN_2_Zero \n",
    "def NaN_2_Zero(value):\n",
    "    value = str(value).lower()\n",
    "    if value == 'nan':\n",
    "        return 0\n",
    "    return value"
   ]
  },
  {
   "cell_type": "code",
   "execution_count": 105,
   "metadata": {},
   "outputs": [],
   "source": [
    "# for review_count -> NaN -> 0\n",
    "clean['review_count'] = clean['review_count'].apply(NaN_2_Zero).astype(float).astype(int)"
   ]
  },
  {
   "cell_type": "code",
   "execution_count": 106,
   "metadata": {},
   "outputs": [],
   "source": [
    "# for review_date -> Nan -> 0\n",
    "clean['review_date'] = clean['review_date'].apply(NaN_2_Zero)"
   ]
  },
  {
   "cell_type": "code",
   "execution_count": 107,
   "metadata": {},
   "outputs": [],
   "source": [
    "# for review_time -> Nan -> 0\n",
    "clean['review_time'] = clean['review_time'].apply(NaN_2_Zero)"
   ]
  },
  {
   "cell_type": "code",
   "execution_count": 108,
   "metadata": {},
   "outputs": [],
   "source": [
    "# price_rating\n",
    "clean['price_rating'] = clean['price_rating'].apply(NaN_2_Zero).astype(float).astype(int)"
   ]
  },
  {
   "cell_type": "code",
   "execution_count": 109,
   "metadata": {},
   "outputs": [],
   "source": [
    "# Quality rating\n",
    "clean['quality_rating'] = clean['quality_rating'].apply(NaN_2_Zero).astype(float).astype(int)"
   ]
  },
  {
   "cell_type": "code",
   "execution_count": 110,
   "metadata": {},
   "outputs": [],
   "source": [
    "# Value rating\n",
    "clean['value_rating'] = clean['value_rating'].apply(NaN_2_Zero).astype(float).astype(int)"
   ]
  },
  {
   "cell_type": "code",
   "execution_count": 111,
   "metadata": {},
   "outputs": [],
   "source": [
    "# review_content\n",
    "clean['review_content'] = clean['review_content'].apply(NaN_2_Zero)"
   ]
  },
  {
   "cell_type": "code",
   "execution_count": 112,
   "metadata": {},
   "outputs": [],
   "source": [
    "# States\n",
    "clean['states'] = clean['states'].apply(NaN_2_Zero)"
   ]
  },
  {
   "cell_type": "code",
   "execution_count": 113,
   "metadata": {},
   "outputs": [],
   "source": [
    "# date_of_creation -> year_of_creation, month_of_creation, day_of_creation\n",
    "clean['year_of_creation'] = clean['date_of_creation'].apply(lambda x : x[0:4])\n",
    "clean['month_of_creation'] = clean['date_of_creation'].apply(lambda x : int(x[5:7]))\n",
    "clean['day_of_creation'] = clean['date_of_creation'].apply(lambda x : int(x[8:10]))"
   ]
  },
  {
   "cell_type": "code",
   "execution_count": 114,
   "metadata": {},
   "outputs": [],
   "source": [
    "# last_updated_date -> last_updated_year,  last_updated_month,  last_updated_day\n",
    "clean['last_updated_year'] = clean['date_of_creation'].apply(lambda x : x[0:4])\n",
    "clean['last_updated_month'] = clean['last_updated_date'].apply(lambda x : int(x[5:7]))\n",
    "clean['last_updated_day'] = clean['last_updated_date'].apply(lambda x : int(x[8:10]))"
   ]
  },
  {
   "cell_type": "code",
   "execution_count": 115,
   "metadata": {},
   "outputs": [],
   "source": [
    "# getting product image url from url column\n",
    "from bs4 import BeautifulSoup\n",
    "import requests\n",
    "\n",
    "def product_img_url(url: str):\n",
    "    res = requests.get(url)\n",
    "    soup = BeautifulSoup(res.content, 'lxml')\n",
    "    img = soup.findAll('img')[5]\n",
    "    print(img)\n",
    "    return img['src']"
   ]
  },
  {
   "cell_type": "code",
   "execution_count": 116,
   "metadata": {},
   "outputs": [
    {
     "data": {
      "text/html": [
       "<div>\n",
       "<style scoped>\n",
       "    .dataframe tbody tr th:only-of-type {\n",
       "        vertical-align: middle;\n",
       "    }\n",
       "\n",
       "    .dataframe tbody tr th {\n",
       "        vertical-align: top;\n",
       "    }\n",
       "\n",
       "    .dataframe thead th {\n",
       "        text-align: right;\n",
       "    }\n",
       "</style>\n",
       "<table border=\"1\" class=\"dataframe\">\n",
       "  <thead>\n",
       "    <tr style=\"text-align: right;\">\n",
       "      <th></th>\n",
       "      <th>sku</th>\n",
       "      <th>product_name</th>\n",
       "      <th>price</th>\n",
       "      <th>product_category</th>\n",
       "      <th>pack_size</th>\n",
       "      <th>review_count</th>\n",
       "      <th>review_date</th>\n",
       "      <th>review_time</th>\n",
       "      <th>price_rating</th>\n",
       "      <th>quality_rating</th>\n",
       "      <th>...</th>\n",
       "      <th>url</th>\n",
       "      <th>date_of_creation</th>\n",
       "      <th>last_updated_date</th>\n",
       "      <th>states</th>\n",
       "      <th>year_of_creation</th>\n",
       "      <th>month_of_creation</th>\n",
       "      <th>day_of_creation</th>\n",
       "      <th>last_updated_year</th>\n",
       "      <th>last_updated_month</th>\n",
       "      <th>last_updated_day</th>\n",
       "    </tr>\n",
       "  </thead>\n",
       "  <tbody>\n",
       "    <tr>\n",
       "      <th>0</th>\n",
       "      <td>8904417301922</td>\n",
       "      <td>Moisture Matte Longstay Lipstick - 2g | Citrus...</td>\n",
       "      <td>499</td>\n",
       "      <td>face</td>\n",
       "      <td>2g</td>\n",
       "      <td>0</td>\n",
       "      <td>0</td>\n",
       "      <td>0</td>\n",
       "      <td>0</td>\n",
       "      <td>0</td>\n",
       "      <td>...</td>\n",
       "      <td>https://mamaearth.in/product/moisture-matte-lo...</td>\n",
       "      <td>2022-09-13</td>\n",
       "      <td>2022-09-19</td>\n",
       "      <td>uttar pradesh</td>\n",
       "      <td>2022</td>\n",
       "      <td>9</td>\n",
       "      <td>13</td>\n",
       "      <td>2022</td>\n",
       "      <td>9</td>\n",
       "      <td>19</td>\n",
       "    </tr>\n",
       "    <tr>\n",
       "      <th>1</th>\n",
       "      <td>8904417301915</td>\n",
       "      <td>Moisture Matte Longstay Lipstick - 2g | Berryl...</td>\n",
       "      <td>499</td>\n",
       "      <td>other</td>\n",
       "      <td>2g</td>\n",
       "      <td>0</td>\n",
       "      <td>0</td>\n",
       "      <td>0</td>\n",
       "      <td>0</td>\n",
       "      <td>0</td>\n",
       "      <td>...</td>\n",
       "      <td>https://mamaearth.in/product/moisture-matte-lo...</td>\n",
       "      <td>2022-09-13</td>\n",
       "      <td>2022-09-19</td>\n",
       "      <td>arunachal pradesh</td>\n",
       "      <td>2022</td>\n",
       "      <td>9</td>\n",
       "      <td>13</td>\n",
       "      <td>2022</td>\n",
       "      <td>9</td>\n",
       "      <td>19</td>\n",
       "    </tr>\n",
       "    <tr>\n",
       "      <th>2</th>\n",
       "      <td>8904417301908</td>\n",
       "      <td>Moisture Matte Longstay Lipstick -2g  | Cherry...</td>\n",
       "      <td>499</td>\n",
       "      <td>face</td>\n",
       "      <td>2g</td>\n",
       "      <td>0</td>\n",
       "      <td>0</td>\n",
       "      <td>0</td>\n",
       "      <td>0</td>\n",
       "      <td>0</td>\n",
       "      <td>...</td>\n",
       "      <td>https://mamaearth.in/product/moisture-matte-lo...</td>\n",
       "      <td>2022-09-13</td>\n",
       "      <td>2022-09-19</td>\n",
       "      <td>karnataka</td>\n",
       "      <td>2022</td>\n",
       "      <td>9</td>\n",
       "      <td>13</td>\n",
       "      <td>2022</td>\n",
       "      <td>9</td>\n",
       "      <td>19</td>\n",
       "    </tr>\n",
       "    <tr>\n",
       "      <th>3</th>\n",
       "      <td>8904417301892</td>\n",
       "      <td>Moisture Matte Long Stay Lipstick - 2g | Pink ...</td>\n",
       "      <td>499</td>\n",
       "      <td>face</td>\n",
       "      <td>2g</td>\n",
       "      <td>0</td>\n",
       "      <td>0</td>\n",
       "      <td>0</td>\n",
       "      <td>0</td>\n",
       "      <td>0</td>\n",
       "      <td>...</td>\n",
       "      <td>https://mamaearth.in/product/moisture-matte-lo...</td>\n",
       "      <td>2022-09-13</td>\n",
       "      <td>2022-09-19</td>\n",
       "      <td>gujarat</td>\n",
       "      <td>2022</td>\n",
       "      <td>9</td>\n",
       "      <td>13</td>\n",
       "      <td>2022</td>\n",
       "      <td>9</td>\n",
       "      <td>19</td>\n",
       "    </tr>\n",
       "    <tr>\n",
       "      <th>4</th>\n",
       "      <td>8904417303377</td>\n",
       "      <td>Vitamin C Daily Glow Face Cream - 80 g - Pack ...</td>\n",
       "      <td>498</td>\n",
       "      <td>skin</td>\n",
       "      <td>80g</td>\n",
       "      <td>2</td>\n",
       "      <td>2022-09-13</td>\n",
       "      <td>18:33:56</td>\n",
       "      <td>5</td>\n",
       "      <td>0</td>\n",
       "      <td>...</td>\n",
       "      <td>https://mamaearth.in/product/vitamin-c-daily-g...</td>\n",
       "      <td>2022-09-01</td>\n",
       "      <td>2022-09-12</td>\n",
       "      <td>madhya pradesh</td>\n",
       "      <td>2022</td>\n",
       "      <td>9</td>\n",
       "      <td>1</td>\n",
       "      <td>2022</td>\n",
       "      <td>9</td>\n",
       "      <td>12</td>\n",
       "    </tr>\n",
       "  </tbody>\n",
       "</table>\n",
       "<p>5 rows × 22 columns</p>\n",
       "</div>"
      ],
      "text/plain": [
       "             sku                                       product_name  price  \\\n",
       "0  8904417301922  Moisture Matte Longstay Lipstick - 2g | Citrus...    499   \n",
       "1  8904417301915  Moisture Matte Longstay Lipstick - 2g | Berryl...    499   \n",
       "2  8904417301908  Moisture Matte Longstay Lipstick -2g  | Cherry...    499   \n",
       "3  8904417301892  Moisture Matte Long Stay Lipstick - 2g | Pink ...    499   \n",
       "4  8904417303377  Vitamin C Daily Glow Face Cream - 80 g - Pack ...    498   \n",
       "\n",
       "  product_category pack_size  review_count review_date review_time  \\\n",
       "0             face        2g             0           0           0   \n",
       "1            other        2g             0           0           0   \n",
       "2             face        2g             0           0           0   \n",
       "3             face        2g             0           0           0   \n",
       "4             skin       80g             2  2022-09-13    18:33:56   \n",
       "\n",
       "   price_rating  quality_rating  ...  \\\n",
       "0             0               0  ...   \n",
       "1             0               0  ...   \n",
       "2             0               0  ...   \n",
       "3             0               0  ...   \n",
       "4             5               0  ...   \n",
       "\n",
       "                                                 url date_of_creation  \\\n",
       "0  https://mamaearth.in/product/moisture-matte-lo...       2022-09-13   \n",
       "1  https://mamaearth.in/product/moisture-matte-lo...       2022-09-13   \n",
       "2  https://mamaearth.in/product/moisture-matte-lo...       2022-09-13   \n",
       "3  https://mamaearth.in/product/moisture-matte-lo...       2022-09-13   \n",
       "4  https://mamaearth.in/product/vitamin-c-daily-g...       2022-09-01   \n",
       "\n",
       "  last_updated_date             states year_of_creation month_of_creation  \\\n",
       "0        2022-09-19      uttar pradesh             2022                 9   \n",
       "1        2022-09-19  arunachal pradesh             2022                 9   \n",
       "2        2022-09-19          karnataka             2022                 9   \n",
       "3        2022-09-19            gujarat             2022                 9   \n",
       "4        2022-09-12     madhya pradesh             2022                 9   \n",
       "\n",
       "  day_of_creation  last_updated_year  last_updated_month last_updated_day  \n",
       "0              13               2022                   9               19  \n",
       "1              13               2022                   9               19  \n",
       "2              13               2022                   9               19  \n",
       "3              13               2022                   9               19  \n",
       "4               1               2022                   9               12  \n",
       "\n",
       "[5 rows x 22 columns]"
      ]
     },
     "execution_count": 116,
     "metadata": {},
     "output_type": "execute_result"
    }
   ],
   "source": [
    "clean.head()"
   ]
  },
  {
   "cell_type": "code",
   "execution_count": 117,
   "metadata": {},
   "outputs": [],
   "source": [
    "clean.to_csv(\"clean_reviews.csv\", index=False)"
   ]
  },
  {
   "cell_type": "code",
   "execution_count": 118,
   "metadata": {},
   "outputs": [
    {
     "data": {
      "text/plain": [
       "product_category\n",
       "face          12395\n",
       "hair           6033\n",
       "skin           5618\n",
       "body           4501\n",
       "combo          1783\n",
       "kit            1395\n",
       "pregenancy       54\n",
       "other            35\n",
       "Name: count, dtype: int64"
      ]
     },
     "execution_count": 118,
     "metadata": {},
     "output_type": "execute_result"
    }
   ],
   "source": [
    "clean['product_category'].value_counts()"
   ]
  },
  {
   "cell_type": "code",
   "execution_count": 119,
   "metadata": {},
   "outputs": [
    {
     "data": {
      "text/plain": [
       "(31814, 22)"
      ]
     },
     "execution_count": 119,
     "metadata": {},
     "output_type": "execute_result"
    }
   ],
   "source": [
    "clean.shape"
   ]
  },
  {
   "cell_type": "code",
   "execution_count": 120,
   "metadata": {},
   "outputs": [
    {
     "name": "stdout",
     "output_type": "stream",
     "text": [
      "<img alt=\"Mamaearth Ultra Light Indian Sunscreen, spf 50 sunscreen\" src=\"https://images.mamaearth.in/catalog/product/u/l/ultra_light_indian_sunscreen_1_1.jpg?format=auto&amp;height=600\"/>\n"
     ]
    },
    {
     "data": {
      "text/plain": [
       "'https://images.mamaearth.in/catalog/product/u/l/ultra_light_indian_sunscreen_1_1.jpg?format=auto&height=600'"
      ]
     },
     "execution_count": 120,
     "metadata": {},
     "output_type": "execute_result"
    }
   ],
   "source": [
    "product_img_url(\"https://mamaearth.in/product/ultra-light-indian-sunscreen\")"
   ]
  },
  {
   "cell_type": "code",
   "execution_count": 121,
   "metadata": {},
   "outputs": [
    {
     "data": {
      "text/html": [
       "<div>\n",
       "<style scoped>\n",
       "    .dataframe tbody tr th:only-of-type {\n",
       "        vertical-align: middle;\n",
       "    }\n",
       "\n",
       "    .dataframe tbody tr th {\n",
       "        vertical-align: top;\n",
       "    }\n",
       "\n",
       "    .dataframe thead th {\n",
       "        text-align: right;\n",
       "    }\n",
       "</style>\n",
       "<table border=\"1\" class=\"dataframe\">\n",
       "  <thead>\n",
       "    <tr style=\"text-align: right;\">\n",
       "      <th></th>\n",
       "      <th>Unnamed: 0</th>\n",
       "      <th>sku</th>\n",
       "      <th>product_name</th>\n",
       "      <th>price</th>\n",
       "      <th>product_category</th>\n",
       "      <th>pack_size</th>\n",
       "      <th>review_count</th>\n",
       "      <th>review_date</th>\n",
       "      <th>review_time</th>\n",
       "      <th>price_rating</th>\n",
       "      <th>...</th>\n",
       "      <th>date_of_creation</th>\n",
       "      <th>last_updated_date</th>\n",
       "      <th>states</th>\n",
       "      <th>year_of_creation</th>\n",
       "      <th>month_of_creation</th>\n",
       "      <th>day_of_creation</th>\n",
       "      <th>last_updated_year</th>\n",
       "      <th>last_updated_month</th>\n",
       "      <th>last_updated_day</th>\n",
       "      <th>sentiment</th>\n",
       "    </tr>\n",
       "  </thead>\n",
       "  <tbody>\n",
       "    <tr>\n",
       "      <th>0</th>\n",
       "      <td>0</td>\n",
       "      <td>8904417301922</td>\n",
       "      <td>Moisture Matte Longstay Lipstick - 2g | Citrus...</td>\n",
       "      <td>499</td>\n",
       "      <td>face</td>\n",
       "      <td>2g</td>\n",
       "      <td>0</td>\n",
       "      <td>0</td>\n",
       "      <td>0</td>\n",
       "      <td>0</td>\n",
       "      <td>...</td>\n",
       "      <td>2022-09-13</td>\n",
       "      <td>2022-09-19</td>\n",
       "      <td>uttar pradesh</td>\n",
       "      <td>2022</td>\n",
       "      <td>9</td>\n",
       "      <td>13</td>\n",
       "      <td>2022</td>\n",
       "      <td>9</td>\n",
       "      <td>19</td>\n",
       "      <td>0</td>\n",
       "    </tr>\n",
       "    <tr>\n",
       "      <th>1</th>\n",
       "      <td>1</td>\n",
       "      <td>8904417301915</td>\n",
       "      <td>Moisture Matte Longstay Lipstick - 2g | Berryl...</td>\n",
       "      <td>499</td>\n",
       "      <td>other</td>\n",
       "      <td>2g</td>\n",
       "      <td>0</td>\n",
       "      <td>0</td>\n",
       "      <td>0</td>\n",
       "      <td>0</td>\n",
       "      <td>...</td>\n",
       "      <td>2022-09-13</td>\n",
       "      <td>2022-09-19</td>\n",
       "      <td>arunachal pradesh</td>\n",
       "      <td>2022</td>\n",
       "      <td>9</td>\n",
       "      <td>13</td>\n",
       "      <td>2022</td>\n",
       "      <td>9</td>\n",
       "      <td>19</td>\n",
       "      <td>0</td>\n",
       "    </tr>\n",
       "    <tr>\n",
       "      <th>2</th>\n",
       "      <td>2</td>\n",
       "      <td>8904417301908</td>\n",
       "      <td>Moisture Matte Longstay Lipstick -2g  | Cherry...</td>\n",
       "      <td>499</td>\n",
       "      <td>face</td>\n",
       "      <td>2g</td>\n",
       "      <td>0</td>\n",
       "      <td>0</td>\n",
       "      <td>0</td>\n",
       "      <td>0</td>\n",
       "      <td>...</td>\n",
       "      <td>2022-09-13</td>\n",
       "      <td>2022-09-19</td>\n",
       "      <td>karnataka</td>\n",
       "      <td>2022</td>\n",
       "      <td>9</td>\n",
       "      <td>13</td>\n",
       "      <td>2022</td>\n",
       "      <td>9</td>\n",
       "      <td>19</td>\n",
       "      <td>0</td>\n",
       "    </tr>\n",
       "    <tr>\n",
       "      <th>3</th>\n",
       "      <td>3</td>\n",
       "      <td>8904417301892</td>\n",
       "      <td>Moisture Matte Long Stay Lipstick - 2g | Pink ...</td>\n",
       "      <td>499</td>\n",
       "      <td>face</td>\n",
       "      <td>2g</td>\n",
       "      <td>0</td>\n",
       "      <td>0</td>\n",
       "      <td>0</td>\n",
       "      <td>0</td>\n",
       "      <td>...</td>\n",
       "      <td>2022-09-13</td>\n",
       "      <td>2022-09-19</td>\n",
       "      <td>gujarat</td>\n",
       "      <td>2022</td>\n",
       "      <td>9</td>\n",
       "      <td>13</td>\n",
       "      <td>2022</td>\n",
       "      <td>9</td>\n",
       "      <td>19</td>\n",
       "      <td>0</td>\n",
       "    </tr>\n",
       "    <tr>\n",
       "      <th>4</th>\n",
       "      <td>4</td>\n",
       "      <td>8904417303377</td>\n",
       "      <td>Vitamin C Daily Glow Face Cream - 80 g - Pack ...</td>\n",
       "      <td>498</td>\n",
       "      <td>skin</td>\n",
       "      <td>80g</td>\n",
       "      <td>2</td>\n",
       "      <td>2022-09-13</td>\n",
       "      <td>18:33:56</td>\n",
       "      <td>5</td>\n",
       "      <td>...</td>\n",
       "      <td>2022-09-01</td>\n",
       "      <td>2022-09-12</td>\n",
       "      <td>madhya pradesh</td>\n",
       "      <td>2022</td>\n",
       "      <td>9</td>\n",
       "      <td>1</td>\n",
       "      <td>2022</td>\n",
       "      <td>9</td>\n",
       "      <td>12</td>\n",
       "      <td>1</td>\n",
       "    </tr>\n",
       "    <tr>\n",
       "      <th>...</th>\n",
       "      <td>...</td>\n",
       "      <td>...</td>\n",
       "      <td>...</td>\n",
       "      <td>...</td>\n",
       "      <td>...</td>\n",
       "      <td>...</td>\n",
       "      <td>...</td>\n",
       "      <td>...</td>\n",
       "      <td>...</td>\n",
       "      <td>...</td>\n",
       "      <td>...</td>\n",
       "      <td>...</td>\n",
       "      <td>...</td>\n",
       "      <td>...</td>\n",
       "      <td>...</td>\n",
       "      <td>...</td>\n",
       "      <td>...</td>\n",
       "      <td>...</td>\n",
       "      <td>...</td>\n",
       "      <td>...</td>\n",
       "      <td>...</td>\n",
       "    </tr>\n",
       "    <tr>\n",
       "      <th>31809</th>\n",
       "      <td>31809</td>\n",
       "      <td>8906087770183</td>\n",
       "      <td>Stretch Marks Cream, 100ml</td>\n",
       "      <td>500</td>\n",
       "      <td>pregenancy</td>\n",
       "      <td>100ml</td>\n",
       "      <td>54</td>\n",
       "      <td>2020-05-15</td>\n",
       "      <td>07:27:29</td>\n",
       "      <td>5</td>\n",
       "      <td>...</td>\n",
       "      <td>2021-03-25</td>\n",
       "      <td>2022-09-13</td>\n",
       "      <td>uttar pradesh</td>\n",
       "      <td>2021</td>\n",
       "      <td>3</td>\n",
       "      <td>25</td>\n",
       "      <td>2021</td>\n",
       "      <td>9</td>\n",
       "      <td>13</td>\n",
       "      <td>1</td>\n",
       "    </tr>\n",
       "    <tr>\n",
       "      <th>31810</th>\n",
       "      <td>31810</td>\n",
       "      <td>8906087770183</td>\n",
       "      <td>Stretch Marks Cream, 100ml</td>\n",
       "      <td>500</td>\n",
       "      <td>pregenancy</td>\n",
       "      <td>100ml</td>\n",
       "      <td>54</td>\n",
       "      <td>2020-02-28</td>\n",
       "      <td>22:26:28</td>\n",
       "      <td>5</td>\n",
       "      <td>...</td>\n",
       "      <td>2021-03-25</td>\n",
       "      <td>2022-09-13</td>\n",
       "      <td>uttar pradesh</td>\n",
       "      <td>2021</td>\n",
       "      <td>3</td>\n",
       "      <td>25</td>\n",
       "      <td>2021</td>\n",
       "      <td>9</td>\n",
       "      <td>13</td>\n",
       "      <td>1</td>\n",
       "    </tr>\n",
       "    <tr>\n",
       "      <th>31811</th>\n",
       "      <td>31811</td>\n",
       "      <td>8906087770183</td>\n",
       "      <td>Stretch Marks Cream, 100ml</td>\n",
       "      <td>500</td>\n",
       "      <td>pregenancy</td>\n",
       "      <td>100ml</td>\n",
       "      <td>54</td>\n",
       "      <td>2020-02-28</td>\n",
       "      <td>22:25:53</td>\n",
       "      <td>5</td>\n",
       "      <td>...</td>\n",
       "      <td>2021-03-25</td>\n",
       "      <td>2022-09-13</td>\n",
       "      <td>rajasthan</td>\n",
       "      <td>2021</td>\n",
       "      <td>3</td>\n",
       "      <td>25</td>\n",
       "      <td>2021</td>\n",
       "      <td>9</td>\n",
       "      <td>13</td>\n",
       "      <td>1</td>\n",
       "    </tr>\n",
       "    <tr>\n",
       "      <th>31812</th>\n",
       "      <td>31812</td>\n",
       "      <td>8906087770183</td>\n",
       "      <td>Stretch Marks Cream, 100ml</td>\n",
       "      <td>500</td>\n",
       "      <td>pregenancy</td>\n",
       "      <td>100ml</td>\n",
       "      <td>54</td>\n",
       "      <td>2020-02-28</td>\n",
       "      <td>22:21:21</td>\n",
       "      <td>3</td>\n",
       "      <td>...</td>\n",
       "      <td>2021-03-25</td>\n",
       "      <td>2022-09-13</td>\n",
       "      <td>jammu and kashmir</td>\n",
       "      <td>2021</td>\n",
       "      <td>3</td>\n",
       "      <td>25</td>\n",
       "      <td>2021</td>\n",
       "      <td>9</td>\n",
       "      <td>13</td>\n",
       "      <td>1</td>\n",
       "    </tr>\n",
       "    <tr>\n",
       "      <th>31813</th>\n",
       "      <td>31813</td>\n",
       "      <td>8906087770183</td>\n",
       "      <td>Stretch Marks Cream, 100ml</td>\n",
       "      <td>500</td>\n",
       "      <td>pregenancy</td>\n",
       "      <td>100ml</td>\n",
       "      <td>54</td>\n",
       "      <td>2020-02-28</td>\n",
       "      <td>22:21:20</td>\n",
       "      <td>3</td>\n",
       "      <td>...</td>\n",
       "      <td>2021-03-25</td>\n",
       "      <td>2022-09-13</td>\n",
       "      <td>punjab</td>\n",
       "      <td>2021</td>\n",
       "      <td>3</td>\n",
       "      <td>25</td>\n",
       "      <td>2021</td>\n",
       "      <td>9</td>\n",
       "      <td>13</td>\n",
       "      <td>1</td>\n",
       "    </tr>\n",
       "  </tbody>\n",
       "</table>\n",
       "<p>31814 rows × 24 columns</p>\n",
       "</div>"
      ],
      "text/plain": [
       "       Unnamed: 0            sku  \\\n",
       "0               0  8904417301922   \n",
       "1               1  8904417301915   \n",
       "2               2  8904417301908   \n",
       "3               3  8904417301892   \n",
       "4               4  8904417303377   \n",
       "...           ...            ...   \n",
       "31809       31809  8906087770183   \n",
       "31810       31810  8906087770183   \n",
       "31811       31811  8906087770183   \n",
       "31812       31812  8906087770183   \n",
       "31813       31813  8906087770183   \n",
       "\n",
       "                                            product_name  price  \\\n",
       "0      Moisture Matte Longstay Lipstick - 2g | Citrus...    499   \n",
       "1      Moisture Matte Longstay Lipstick - 2g | Berryl...    499   \n",
       "2      Moisture Matte Longstay Lipstick -2g  | Cherry...    499   \n",
       "3      Moisture Matte Long Stay Lipstick - 2g | Pink ...    499   \n",
       "4      Vitamin C Daily Glow Face Cream - 80 g - Pack ...    498   \n",
       "...                                                  ...    ...   \n",
       "31809                         Stretch Marks Cream, 100ml    500   \n",
       "31810                         Stretch Marks Cream, 100ml    500   \n",
       "31811                         Stretch Marks Cream, 100ml    500   \n",
       "31812                         Stretch Marks Cream, 100ml    500   \n",
       "31813                         Stretch Marks Cream, 100ml    500   \n",
       "\n",
       "      product_category pack_size  review_count review_date review_time  \\\n",
       "0                 face        2g             0           0           0   \n",
       "1                other        2g             0           0           0   \n",
       "2                 face        2g             0           0           0   \n",
       "3                 face        2g             0           0           0   \n",
       "4                 skin       80g             2  2022-09-13    18:33:56   \n",
       "...                ...       ...           ...         ...         ...   \n",
       "31809       pregenancy     100ml            54  2020-05-15    07:27:29   \n",
       "31810       pregenancy     100ml            54  2020-02-28    22:26:28   \n",
       "31811       pregenancy     100ml            54  2020-02-28    22:25:53   \n",
       "31812       pregenancy     100ml            54  2020-02-28    22:21:21   \n",
       "31813       pregenancy     100ml            54  2020-02-28    22:21:20   \n",
       "\n",
       "       price_rating  ...  date_of_creation  last_updated_date  \\\n",
       "0                 0  ...        2022-09-13         2022-09-19   \n",
       "1                 0  ...        2022-09-13         2022-09-19   \n",
       "2                 0  ...        2022-09-13         2022-09-19   \n",
       "3                 0  ...        2022-09-13         2022-09-19   \n",
       "4                 5  ...        2022-09-01         2022-09-12   \n",
       "...             ...  ...               ...                ...   \n",
       "31809             5  ...        2021-03-25         2022-09-13   \n",
       "31810             5  ...        2021-03-25         2022-09-13   \n",
       "31811             5  ...        2021-03-25         2022-09-13   \n",
       "31812             3  ...        2021-03-25         2022-09-13   \n",
       "31813             3  ...        2021-03-25         2022-09-13   \n",
       "\n",
       "                  states year_of_creation month_of_creation day_of_creation  \\\n",
       "0          uttar pradesh             2022                 9              13   \n",
       "1      arunachal pradesh             2022                 9              13   \n",
       "2              karnataka             2022                 9              13   \n",
       "3                gujarat             2022                 9              13   \n",
       "4         madhya pradesh             2022                 9               1   \n",
       "...                  ...              ...               ...             ...   \n",
       "31809      uttar pradesh             2021                 3              25   \n",
       "31810      uttar pradesh             2021                 3              25   \n",
       "31811          rajasthan             2021                 3              25   \n",
       "31812  jammu and kashmir             2021                 3              25   \n",
       "31813             punjab             2021                 3              25   \n",
       "\n",
       "      last_updated_year  last_updated_month  last_updated_day  sentiment  \n",
       "0                  2022                   9                19          0  \n",
       "1                  2022                   9                19          0  \n",
       "2                  2022                   9                19          0  \n",
       "3                  2022                   9                19          0  \n",
       "4                  2022                   9                12          1  \n",
       "...                 ...                 ...               ...        ...  \n",
       "31809              2021                   9                13          1  \n",
       "31810              2021                   9                13          1  \n",
       "31811              2021                   9                13          1  \n",
       "31812              2021                   9                13          1  \n",
       "31813              2021                   9                13          1  \n",
       "\n",
       "[31814 rows x 24 columns]"
      ]
     },
     "execution_count": 121,
     "metadata": {},
     "output_type": "execute_result"
    }
   ],
   "source": [
    "pd.read_csv(\"../datasets/clean_reviews.csv\")"
   ]
  },
  {
   "cell_type": "code",
   "execution_count": 124,
   "metadata": {},
   "outputs": [],
   "source": [
    "# adding sentiment feature in main dataset\n",
    "import pandas as pd\n",
    "clean_reviews = pd.read_csv(\"../datasets/clean_reviews.csv\")\n",
    "sentiment2 = pd.read_csv(\"../datasets/sentiment_reviews2.csv\")\n",
    "clean_reviews['sentiment'] = sentiment2['sentiment']\n",
    "clean_reviews.to_csv(\"main_clean.csv\", index=False)"
   ]
  },
  {
   "cell_type": "code",
   "execution_count": 125,
   "metadata": {},
   "outputs": [
    {
     "data": {
      "text/html": [
       "<div>\n",
       "<style scoped>\n",
       "    .dataframe tbody tr th:only-of-type {\n",
       "        vertical-align: middle;\n",
       "    }\n",
       "\n",
       "    .dataframe tbody tr th {\n",
       "        vertical-align: top;\n",
       "    }\n",
       "\n",
       "    .dataframe thead th {\n",
       "        text-align: right;\n",
       "    }\n",
       "</style>\n",
       "<table border=\"1\" class=\"dataframe\">\n",
       "  <thead>\n",
       "    <tr style=\"text-align: right;\">\n",
       "      <th></th>\n",
       "      <th>sku</th>\n",
       "      <th>product_name</th>\n",
       "      <th>price</th>\n",
       "      <th>product_category</th>\n",
       "      <th>pack_size</th>\n",
       "      <th>review_count</th>\n",
       "      <th>review_date</th>\n",
       "      <th>review_time</th>\n",
       "      <th>price_rating</th>\n",
       "      <th>quality_rating</th>\n",
       "      <th>...</th>\n",
       "      <th>date_of_creation</th>\n",
       "      <th>last_updated_date</th>\n",
       "      <th>states</th>\n",
       "      <th>year_of_creation</th>\n",
       "      <th>month_of_creation</th>\n",
       "      <th>day_of_creation</th>\n",
       "      <th>last_updated_year</th>\n",
       "      <th>last_updated_month</th>\n",
       "      <th>last_updated_day</th>\n",
       "      <th>sentiment</th>\n",
       "    </tr>\n",
       "  </thead>\n",
       "  <tbody>\n",
       "    <tr>\n",
       "      <th>0</th>\n",
       "      <td>8904417301922</td>\n",
       "      <td>Moisture Matte Longstay Lipstick - 2g | Citrus...</td>\n",
       "      <td>499</td>\n",
       "      <td>face</td>\n",
       "      <td>2g</td>\n",
       "      <td>0</td>\n",
       "      <td>0</td>\n",
       "      <td>0</td>\n",
       "      <td>0</td>\n",
       "      <td>0</td>\n",
       "      <td>...</td>\n",
       "      <td>2022-09-13</td>\n",
       "      <td>2022-09-19</td>\n",
       "      <td>uttar pradesh</td>\n",
       "      <td>2022</td>\n",
       "      <td>9</td>\n",
       "      <td>13</td>\n",
       "      <td>2022</td>\n",
       "      <td>9</td>\n",
       "      <td>19</td>\n",
       "      <td>0</td>\n",
       "    </tr>\n",
       "    <tr>\n",
       "      <th>1</th>\n",
       "      <td>8904417301915</td>\n",
       "      <td>Moisture Matte Longstay Lipstick - 2g | Berryl...</td>\n",
       "      <td>499</td>\n",
       "      <td>other</td>\n",
       "      <td>2g</td>\n",
       "      <td>0</td>\n",
       "      <td>0</td>\n",
       "      <td>0</td>\n",
       "      <td>0</td>\n",
       "      <td>0</td>\n",
       "      <td>...</td>\n",
       "      <td>2022-09-13</td>\n",
       "      <td>2022-09-19</td>\n",
       "      <td>arunachal pradesh</td>\n",
       "      <td>2022</td>\n",
       "      <td>9</td>\n",
       "      <td>13</td>\n",
       "      <td>2022</td>\n",
       "      <td>9</td>\n",
       "      <td>19</td>\n",
       "      <td>0</td>\n",
       "    </tr>\n",
       "    <tr>\n",
       "      <th>2</th>\n",
       "      <td>8904417301908</td>\n",
       "      <td>Moisture Matte Longstay Lipstick -2g  | Cherry...</td>\n",
       "      <td>499</td>\n",
       "      <td>face</td>\n",
       "      <td>2g</td>\n",
       "      <td>0</td>\n",
       "      <td>0</td>\n",
       "      <td>0</td>\n",
       "      <td>0</td>\n",
       "      <td>0</td>\n",
       "      <td>...</td>\n",
       "      <td>2022-09-13</td>\n",
       "      <td>2022-09-19</td>\n",
       "      <td>karnataka</td>\n",
       "      <td>2022</td>\n",
       "      <td>9</td>\n",
       "      <td>13</td>\n",
       "      <td>2022</td>\n",
       "      <td>9</td>\n",
       "      <td>19</td>\n",
       "      <td>0</td>\n",
       "    </tr>\n",
       "    <tr>\n",
       "      <th>3</th>\n",
       "      <td>8904417301892</td>\n",
       "      <td>Moisture Matte Long Stay Lipstick - 2g | Pink ...</td>\n",
       "      <td>499</td>\n",
       "      <td>face</td>\n",
       "      <td>2g</td>\n",
       "      <td>0</td>\n",
       "      <td>0</td>\n",
       "      <td>0</td>\n",
       "      <td>0</td>\n",
       "      <td>0</td>\n",
       "      <td>...</td>\n",
       "      <td>2022-09-13</td>\n",
       "      <td>2022-09-19</td>\n",
       "      <td>gujarat</td>\n",
       "      <td>2022</td>\n",
       "      <td>9</td>\n",
       "      <td>13</td>\n",
       "      <td>2022</td>\n",
       "      <td>9</td>\n",
       "      <td>19</td>\n",
       "      <td>0</td>\n",
       "    </tr>\n",
       "    <tr>\n",
       "      <th>4</th>\n",
       "      <td>8904417303377</td>\n",
       "      <td>Vitamin C Daily Glow Face Cream - 80 g - Pack ...</td>\n",
       "      <td>498</td>\n",
       "      <td>skin</td>\n",
       "      <td>80g</td>\n",
       "      <td>2</td>\n",
       "      <td>2022-09-13</td>\n",
       "      <td>18:33:56</td>\n",
       "      <td>5</td>\n",
       "      <td>0</td>\n",
       "      <td>...</td>\n",
       "      <td>2022-09-01</td>\n",
       "      <td>2022-09-12</td>\n",
       "      <td>madhya pradesh</td>\n",
       "      <td>2022</td>\n",
       "      <td>9</td>\n",
       "      <td>1</td>\n",
       "      <td>2022</td>\n",
       "      <td>9</td>\n",
       "      <td>12</td>\n",
       "      <td>1</td>\n",
       "    </tr>\n",
       "  </tbody>\n",
       "</table>\n",
       "<p>5 rows × 23 columns</p>\n",
       "</div>"
      ],
      "text/plain": [
       "             sku                                       product_name  price  \\\n",
       "0  8904417301922  Moisture Matte Longstay Lipstick - 2g | Citrus...    499   \n",
       "1  8904417301915  Moisture Matte Longstay Lipstick - 2g | Berryl...    499   \n",
       "2  8904417301908  Moisture Matte Longstay Lipstick -2g  | Cherry...    499   \n",
       "3  8904417301892  Moisture Matte Long Stay Lipstick - 2g | Pink ...    499   \n",
       "4  8904417303377  Vitamin C Daily Glow Face Cream - 80 g - Pack ...    498   \n",
       "\n",
       "  product_category pack_size  review_count review_date review_time  \\\n",
       "0             face        2g             0           0           0   \n",
       "1            other        2g             0           0           0   \n",
       "2             face        2g             0           0           0   \n",
       "3             face        2g             0           0           0   \n",
       "4             skin       80g             2  2022-09-13    18:33:56   \n",
       "\n",
       "   price_rating  quality_rating  ...  date_of_creation last_updated_date  \\\n",
       "0             0               0  ...        2022-09-13        2022-09-19   \n",
       "1             0               0  ...        2022-09-13        2022-09-19   \n",
       "2             0               0  ...        2022-09-13        2022-09-19   \n",
       "3             0               0  ...        2022-09-13        2022-09-19   \n",
       "4             5               0  ...        2022-09-01        2022-09-12   \n",
       "\n",
       "              states year_of_creation month_of_creation day_of_creation  \\\n",
       "0      uttar pradesh             2022                 9              13   \n",
       "1  arunachal pradesh             2022                 9              13   \n",
       "2          karnataka             2022                 9              13   \n",
       "3            gujarat             2022                 9              13   \n",
       "4     madhya pradesh             2022                 9               1   \n",
       "\n",
       "   last_updated_year  last_updated_month  last_updated_day  sentiment  \n",
       "0               2022                   9                19          0  \n",
       "1               2022                   9                19          0  \n",
       "2               2022                   9                19          0  \n",
       "3               2022                   9                19          0  \n",
       "4               2022                   9                12          1  \n",
       "\n",
       "[5 rows x 23 columns]"
      ]
     },
     "execution_count": 125,
     "metadata": {},
     "output_type": "execute_result"
    }
   ],
   "source": [
    "clean_reviews.head()"
   ]
  },
  {
   "cell_type": "code",
   "execution_count": 126,
   "metadata": {},
   "outputs": [],
   "source": [
    "def get_line(df: pd.DataFrame):\n",
    "    col = df.columns\n",
    "    figure = px.line(df, x = col[0], y=col[1])\n",
    "    return figure"
   ]
  },
  {
   "cell_type": "code",
   "execution_count": 130,
   "metadata": {},
   "outputs": [],
   "source": [
    "import plotly.express as px"
   ]
  },
  {
   "cell_type": "code",
   "execution_count": 131,
   "metadata": {},
   "outputs": [
    {
     "data": {
      "application/vnd.plotly.v1+json": {
       "config": {
        "plotlyServerURL": "https://plot.ly"
       },
       "data": [
        {
         "hovertemplate": "price=%{x}<br>count=%{y}<extra></extra>",
         "legendgroup": "",
         "line": {
          "color": "#636efa",
          "dash": "solid"
         },
         "marker": {
          "symbol": "circle"
         },
         "mode": "lines",
         "name": "",
         "orientation": "v",
         "showlegend": false,
         "type": "scatter",
         "x": [
          149,
          150,
          199,
          249,
          259,
          299,
          319,
          349,
          375,
          398,
          399,
          419,
          447,
          448,
          449,
          471,
          498,
          499,
          500,
          508,
          518,
          559,
          598,
          599,
          608,
          648,
          698,
          699,
          720,
          748,
          750,
          798,
          799,
          908,
          948,
          999,
          1097,
          1098,
          1177,
          1193,
          1197,
          1198,
          1243,
          1247,
          1297,
          1346,
          1396,
          1497,
          1696,
          1746
         ],
         "xaxis": "x",
         "y": [
          392,
          44,
          556,
          2750,
          1208,
          2030,
          1139,
          4146,
          606,
          35,
          6439,
          104,
          1,
          18,
          626,
          615,
          310,
          2809,
          54,
          70,
          20,
          28,
          115,
          4023,
          40,
          31,
          341,
          914,
          59,
          135,
          32,
          142,
          65,
          28,
          111,
          172,
          696,
          13,
          171,
          1,
          54,
          26,
          2,
          53,
          175,
          85,
          117,
          23,
          165,
          25
         ],
         "yaxis": "y"
        }
       ],
       "layout": {
        "legend": {
         "tracegroupgap": 0
        },
        "margin": {
         "t": 60
        },
        "template": {
         "data": {
          "bar": [
           {
            "error_x": {
             "color": "#2a3f5f"
            },
            "error_y": {
             "color": "#2a3f5f"
            },
            "marker": {
             "line": {
              "color": "#E5ECF6",
              "width": 0.5
             },
             "pattern": {
              "fillmode": "overlay",
              "size": 10,
              "solidity": 0.2
             }
            },
            "type": "bar"
           }
          ],
          "barpolar": [
           {
            "marker": {
             "line": {
              "color": "#E5ECF6",
              "width": 0.5
             },
             "pattern": {
              "fillmode": "overlay",
              "size": 10,
              "solidity": 0.2
             }
            },
            "type": "barpolar"
           }
          ],
          "carpet": [
           {
            "aaxis": {
             "endlinecolor": "#2a3f5f",
             "gridcolor": "white",
             "linecolor": "white",
             "minorgridcolor": "white",
             "startlinecolor": "#2a3f5f"
            },
            "baxis": {
             "endlinecolor": "#2a3f5f",
             "gridcolor": "white",
             "linecolor": "white",
             "minorgridcolor": "white",
             "startlinecolor": "#2a3f5f"
            },
            "type": "carpet"
           }
          ],
          "choropleth": [
           {
            "colorbar": {
             "outlinewidth": 0,
             "ticks": ""
            },
            "type": "choropleth"
           }
          ],
          "contour": [
           {
            "colorbar": {
             "outlinewidth": 0,
             "ticks": ""
            },
            "colorscale": [
             [
              0,
              "#0d0887"
             ],
             [
              0.1111111111111111,
              "#46039f"
             ],
             [
              0.2222222222222222,
              "#7201a8"
             ],
             [
              0.3333333333333333,
              "#9c179e"
             ],
             [
              0.4444444444444444,
              "#bd3786"
             ],
             [
              0.5555555555555556,
              "#d8576b"
             ],
             [
              0.6666666666666666,
              "#ed7953"
             ],
             [
              0.7777777777777778,
              "#fb9f3a"
             ],
             [
              0.8888888888888888,
              "#fdca26"
             ],
             [
              1,
              "#f0f921"
             ]
            ],
            "type": "contour"
           }
          ],
          "contourcarpet": [
           {
            "colorbar": {
             "outlinewidth": 0,
             "ticks": ""
            },
            "type": "contourcarpet"
           }
          ],
          "heatmap": [
           {
            "colorbar": {
             "outlinewidth": 0,
             "ticks": ""
            },
            "colorscale": [
             [
              0,
              "#0d0887"
             ],
             [
              0.1111111111111111,
              "#46039f"
             ],
             [
              0.2222222222222222,
              "#7201a8"
             ],
             [
              0.3333333333333333,
              "#9c179e"
             ],
             [
              0.4444444444444444,
              "#bd3786"
             ],
             [
              0.5555555555555556,
              "#d8576b"
             ],
             [
              0.6666666666666666,
              "#ed7953"
             ],
             [
              0.7777777777777778,
              "#fb9f3a"
             ],
             [
              0.8888888888888888,
              "#fdca26"
             ],
             [
              1,
              "#f0f921"
             ]
            ],
            "type": "heatmap"
           }
          ],
          "heatmapgl": [
           {
            "colorbar": {
             "outlinewidth": 0,
             "ticks": ""
            },
            "colorscale": [
             [
              0,
              "#0d0887"
             ],
             [
              0.1111111111111111,
              "#46039f"
             ],
             [
              0.2222222222222222,
              "#7201a8"
             ],
             [
              0.3333333333333333,
              "#9c179e"
             ],
             [
              0.4444444444444444,
              "#bd3786"
             ],
             [
              0.5555555555555556,
              "#d8576b"
             ],
             [
              0.6666666666666666,
              "#ed7953"
             ],
             [
              0.7777777777777778,
              "#fb9f3a"
             ],
             [
              0.8888888888888888,
              "#fdca26"
             ],
             [
              1,
              "#f0f921"
             ]
            ],
            "type": "heatmapgl"
           }
          ],
          "histogram": [
           {
            "marker": {
             "pattern": {
              "fillmode": "overlay",
              "size": 10,
              "solidity": 0.2
             }
            },
            "type": "histogram"
           }
          ],
          "histogram2d": [
           {
            "colorbar": {
             "outlinewidth": 0,
             "ticks": ""
            },
            "colorscale": [
             [
              0,
              "#0d0887"
             ],
             [
              0.1111111111111111,
              "#46039f"
             ],
             [
              0.2222222222222222,
              "#7201a8"
             ],
             [
              0.3333333333333333,
              "#9c179e"
             ],
             [
              0.4444444444444444,
              "#bd3786"
             ],
             [
              0.5555555555555556,
              "#d8576b"
             ],
             [
              0.6666666666666666,
              "#ed7953"
             ],
             [
              0.7777777777777778,
              "#fb9f3a"
             ],
             [
              0.8888888888888888,
              "#fdca26"
             ],
             [
              1,
              "#f0f921"
             ]
            ],
            "type": "histogram2d"
           }
          ],
          "histogram2dcontour": [
           {
            "colorbar": {
             "outlinewidth": 0,
             "ticks": ""
            },
            "colorscale": [
             [
              0,
              "#0d0887"
             ],
             [
              0.1111111111111111,
              "#46039f"
             ],
             [
              0.2222222222222222,
              "#7201a8"
             ],
             [
              0.3333333333333333,
              "#9c179e"
             ],
             [
              0.4444444444444444,
              "#bd3786"
             ],
             [
              0.5555555555555556,
              "#d8576b"
             ],
             [
              0.6666666666666666,
              "#ed7953"
             ],
             [
              0.7777777777777778,
              "#fb9f3a"
             ],
             [
              0.8888888888888888,
              "#fdca26"
             ],
             [
              1,
              "#f0f921"
             ]
            ],
            "type": "histogram2dcontour"
           }
          ],
          "mesh3d": [
           {
            "colorbar": {
             "outlinewidth": 0,
             "ticks": ""
            },
            "type": "mesh3d"
           }
          ],
          "parcoords": [
           {
            "line": {
             "colorbar": {
              "outlinewidth": 0,
              "ticks": ""
             }
            },
            "type": "parcoords"
           }
          ],
          "pie": [
           {
            "automargin": true,
            "type": "pie"
           }
          ],
          "scatter": [
           {
            "fillpattern": {
             "fillmode": "overlay",
             "size": 10,
             "solidity": 0.2
            },
            "type": "scatter"
           }
          ],
          "scatter3d": [
           {
            "line": {
             "colorbar": {
              "outlinewidth": 0,
              "ticks": ""
             }
            },
            "marker": {
             "colorbar": {
              "outlinewidth": 0,
              "ticks": ""
             }
            },
            "type": "scatter3d"
           }
          ],
          "scattercarpet": [
           {
            "marker": {
             "colorbar": {
              "outlinewidth": 0,
              "ticks": ""
             }
            },
            "type": "scattercarpet"
           }
          ],
          "scattergeo": [
           {
            "marker": {
             "colorbar": {
              "outlinewidth": 0,
              "ticks": ""
             }
            },
            "type": "scattergeo"
           }
          ],
          "scattergl": [
           {
            "marker": {
             "colorbar": {
              "outlinewidth": 0,
              "ticks": ""
             }
            },
            "type": "scattergl"
           }
          ],
          "scattermapbox": [
           {
            "marker": {
             "colorbar": {
              "outlinewidth": 0,
              "ticks": ""
             }
            },
            "type": "scattermapbox"
           }
          ],
          "scatterpolar": [
           {
            "marker": {
             "colorbar": {
              "outlinewidth": 0,
              "ticks": ""
             }
            },
            "type": "scatterpolar"
           }
          ],
          "scatterpolargl": [
           {
            "marker": {
             "colorbar": {
              "outlinewidth": 0,
              "ticks": ""
             }
            },
            "type": "scatterpolargl"
           }
          ],
          "scatterternary": [
           {
            "marker": {
             "colorbar": {
              "outlinewidth": 0,
              "ticks": ""
             }
            },
            "type": "scatterternary"
           }
          ],
          "surface": [
           {
            "colorbar": {
             "outlinewidth": 0,
             "ticks": ""
            },
            "colorscale": [
             [
              0,
              "#0d0887"
             ],
             [
              0.1111111111111111,
              "#46039f"
             ],
             [
              0.2222222222222222,
              "#7201a8"
             ],
             [
              0.3333333333333333,
              "#9c179e"
             ],
             [
              0.4444444444444444,
              "#bd3786"
             ],
             [
              0.5555555555555556,
              "#d8576b"
             ],
             [
              0.6666666666666666,
              "#ed7953"
             ],
             [
              0.7777777777777778,
              "#fb9f3a"
             ],
             [
              0.8888888888888888,
              "#fdca26"
             ],
             [
              1,
              "#f0f921"
             ]
            ],
            "type": "surface"
           }
          ],
          "table": [
           {
            "cells": {
             "fill": {
              "color": "#EBF0F8"
             },
             "line": {
              "color": "white"
             }
            },
            "header": {
             "fill": {
              "color": "#C8D4E3"
             },
             "line": {
              "color": "white"
             }
            },
            "type": "table"
           }
          ]
         },
         "layout": {
          "annotationdefaults": {
           "arrowcolor": "#2a3f5f",
           "arrowhead": 0,
           "arrowwidth": 1
          },
          "autotypenumbers": "strict",
          "coloraxis": {
           "colorbar": {
            "outlinewidth": 0,
            "ticks": ""
           }
          },
          "colorscale": {
           "diverging": [
            [
             0,
             "#8e0152"
            ],
            [
             0.1,
             "#c51b7d"
            ],
            [
             0.2,
             "#de77ae"
            ],
            [
             0.3,
             "#f1b6da"
            ],
            [
             0.4,
             "#fde0ef"
            ],
            [
             0.5,
             "#f7f7f7"
            ],
            [
             0.6,
             "#e6f5d0"
            ],
            [
             0.7,
             "#b8e186"
            ],
            [
             0.8,
             "#7fbc41"
            ],
            [
             0.9,
             "#4d9221"
            ],
            [
             1,
             "#276419"
            ]
           ],
           "sequential": [
            [
             0,
             "#0d0887"
            ],
            [
             0.1111111111111111,
             "#46039f"
            ],
            [
             0.2222222222222222,
             "#7201a8"
            ],
            [
             0.3333333333333333,
             "#9c179e"
            ],
            [
             0.4444444444444444,
             "#bd3786"
            ],
            [
             0.5555555555555556,
             "#d8576b"
            ],
            [
             0.6666666666666666,
             "#ed7953"
            ],
            [
             0.7777777777777778,
             "#fb9f3a"
            ],
            [
             0.8888888888888888,
             "#fdca26"
            ],
            [
             1,
             "#f0f921"
            ]
           ],
           "sequentialminus": [
            [
             0,
             "#0d0887"
            ],
            [
             0.1111111111111111,
             "#46039f"
            ],
            [
             0.2222222222222222,
             "#7201a8"
            ],
            [
             0.3333333333333333,
             "#9c179e"
            ],
            [
             0.4444444444444444,
             "#bd3786"
            ],
            [
             0.5555555555555556,
             "#d8576b"
            ],
            [
             0.6666666666666666,
             "#ed7953"
            ],
            [
             0.7777777777777778,
             "#fb9f3a"
            ],
            [
             0.8888888888888888,
             "#fdca26"
            ],
            [
             1,
             "#f0f921"
            ]
           ]
          },
          "colorway": [
           "#636efa",
           "#EF553B",
           "#00cc96",
           "#ab63fa",
           "#FFA15A",
           "#19d3f3",
           "#FF6692",
           "#B6E880",
           "#FF97FF",
           "#FECB52"
          ],
          "font": {
           "color": "#2a3f5f"
          },
          "geo": {
           "bgcolor": "white",
           "lakecolor": "white",
           "landcolor": "#E5ECF6",
           "showlakes": true,
           "showland": true,
           "subunitcolor": "white"
          },
          "hoverlabel": {
           "align": "left"
          },
          "hovermode": "closest",
          "mapbox": {
           "style": "light"
          },
          "paper_bgcolor": "white",
          "plot_bgcolor": "#E5ECF6",
          "polar": {
           "angularaxis": {
            "gridcolor": "white",
            "linecolor": "white",
            "ticks": ""
           },
           "bgcolor": "#E5ECF6",
           "radialaxis": {
            "gridcolor": "white",
            "linecolor": "white",
            "ticks": ""
           }
          },
          "scene": {
           "xaxis": {
            "backgroundcolor": "#E5ECF6",
            "gridcolor": "white",
            "gridwidth": 2,
            "linecolor": "white",
            "showbackground": true,
            "ticks": "",
            "zerolinecolor": "white"
           },
           "yaxis": {
            "backgroundcolor": "#E5ECF6",
            "gridcolor": "white",
            "gridwidth": 2,
            "linecolor": "white",
            "showbackground": true,
            "ticks": "",
            "zerolinecolor": "white"
           },
           "zaxis": {
            "backgroundcolor": "#E5ECF6",
            "gridcolor": "white",
            "gridwidth": 2,
            "linecolor": "white",
            "showbackground": true,
            "ticks": "",
            "zerolinecolor": "white"
           }
          },
          "shapedefaults": {
           "line": {
            "color": "#2a3f5f"
           }
          },
          "ternary": {
           "aaxis": {
            "gridcolor": "white",
            "linecolor": "white",
            "ticks": ""
           },
           "baxis": {
            "gridcolor": "white",
            "linecolor": "white",
            "ticks": ""
           },
           "bgcolor": "#E5ECF6",
           "caxis": {
            "gridcolor": "white",
            "linecolor": "white",
            "ticks": ""
           }
          },
          "title": {
           "x": 0.05
          },
          "xaxis": {
           "automargin": true,
           "gridcolor": "white",
           "linecolor": "white",
           "ticks": "",
           "title": {
            "standoff": 15
           },
           "zerolinecolor": "white",
           "zerolinewidth": 2
          },
          "yaxis": {
           "automargin": true,
           "gridcolor": "white",
           "linecolor": "white",
           "ticks": "",
           "title": {
            "standoff": 15
           },
           "zerolinecolor": "white",
           "zerolinewidth": 2
          }
         }
        },
        "xaxis": {
         "anchor": "y",
         "domain": [
          0,
          1
         ],
         "title": {
          "text": "price"
         }
        },
        "yaxis": {
         "anchor": "x",
         "domain": [
          0,
          1
         ],
         "title": {
          "text": "count"
         }
        }
       }
      }
     },
     "metadata": {},
     "output_type": "display_data"
    }
   ],
   "source": [
    "get_line(clean_reviews['price'].value_counts().reset_index().sort_values(by='price', ascending=True))"
   ]
  },
  {
   "cell_type": "code",
   "execution_count": null,
   "metadata": {},
   "outputs": [],
   "source": []
  }
 ],
 "metadata": {
  "kernelspec": {
   "display_name": "Python 3",
   "language": "python",
   "name": "python3"
  },
  "language_info": {
   "codemirror_mode": {
    "name": "ipython",
    "version": 3
   },
   "file_extension": ".py",
   "mimetype": "text/x-python",
   "name": "python",
   "nbconvert_exporter": "python",
   "pygments_lexer": "ipython3",
   "version": "3.10.12"
  }
 },
 "nbformat": 4,
 "nbformat_minor": 2
}
